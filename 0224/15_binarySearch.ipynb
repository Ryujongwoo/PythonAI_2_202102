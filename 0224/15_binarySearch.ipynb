{
 "cells": [
  {
   "cell_type": "markdown",
   "id": "exposed-framing",
   "metadata": {},
   "source": [
    "제어 검색은 반드시 검색할 데이터가 정렬이 되어있는 상태에서 검색을 진행한다.  \n",
    "이진 검색은 제어 검색의 한 종류(이진 검색 이외에 피보나치 검색, 보간 검색이 있다.)로 검색하려는 데이터를 파일의 중간 위치의 데이터와 비교하면서 검색을 수행한다."
   ]
  },
  {
   "cell_type": "code",
   "execution_count": 2,
   "id": "qualified-dependence",
   "metadata": {},
   "outputs": [
    {
     "data": {
      "image/png": "[encoded data removed]",
      "text/plain": [
       "<IPython.core.display.Image object>"
      ]
     },
     "execution_count": 2,
     "metadata": {
      "image/png": {
       "width": "700"
      }
     },
     "output_type": "execute_result"
    }
   ],
   "source": [
    "from IPython.display import Image\n",
    "Image('./binarySearch.png', width = '700')"
   ]
  },
  {
   "cell_type": "code",
   "execution_count": 8,
   "id": "potential-technical",
   "metadata": {},
   "outputs": [
    {
     "name": "stdout",
     "output_type": "stream",
     "text": [
      "검색할 데이터 : 45\n",
      "3번 비교\n",
      "검색 성공!!! 45은(는) 6번째 위치의 데이터 입니다.\n"
     ]
    }
   ],
   "source": [
    "searchData = [2, 11, 19, 27, 30, 31, 45, 121]\n",
    "number = int(input('검색할 데이터 : '))\n",
    "\n",
    "l = 0                   # 검색할 데이터의 첫번째 인덱스를 기억하는 변수\n",
    "h = len(searchData) - 1 # 검색할 데이터의 마지막 인덱스를 기억하는 변수\n",
    "m = 0                   # 검색할 데이터의 중간 인덱스를 기억하는 변수 => 이 위치의 값과 찾으려는 데이터를 비교한다.\n",
    "count = 0               # 데이터를 검색하기 위해 비교하는 횟수를 기억하는 변수\n",
    "isFlag = False          # 데이터 검색에 성공했나(True) 실패했나(False)를 기억하는 변수\n",
    "\n",
    "# l이 h보다 커지면 찾으려 하는 데이터가 리스트에 없으므로 반복을 중지시킨다.\n",
    "while l <= h:\n",
    "    m = (l + h) // 2 # 입력한 데이터와 비교할 데이터의 위치를 계산한다. => 중간 위치를 계산한다.\n",
    "    count += 1       # 비교 횟수를 증가시킨다.\n",
    "    if number > searchData[m]:\n",
    "        l = m + 1\n",
    "    elif number < searchData[m]:\n",
    "        h = m - 1\n",
    "    else: # 크지도 않고 작지도 않으면 같다는 의미이다. => 찾았다. => 반복을 탈출시킨다.\n",
    "        isFlag = True\n",
    "        break\n",
    "# ===== while l <= h 끝\n",
    "print('{}번 비교'.format(count))\n",
    "if isFlag:\n",
    "    print('검색 성공!!! {}은(는) {}번째 위치의 데이터 입니다.'.format(number, m))\n",
    "else:\n",
    "    print('검색 실패!!! {}은(는) 존재하지 않는 데이터 입니다.'.format(number))"
   ]
  },
  {
   "cell_type": "code",
   "execution_count": null,
   "id": "annoying-ranch",
   "metadata": {},
   "outputs": [],
   "source": []
  },
  {
   "cell_type": "code",
   "execution_count": null,
   "id": "gothic-transcription",
   "metadata": {},
   "outputs": [],
   "source": []
  },
  {
   "cell_type": "code",
   "execution_count": null,
   "id": "particular-processing",
   "metadata": {},
   "outputs": [],
   "source": []
  },
  {
   "cell_type": "code",
   "execution_count": null,
   "id": "variable-superior",
   "metadata": {},
   "outputs": [],
   "source": []
  },
  {
   "cell_type": "code",
   "execution_count": null,
   "id": "small-subscriber",
   "metadata": {},
   "outputs": [],
   "source": []
  },
  {
   "cell_type": "code",
   "execution_count": null,
   "id": "sharp-today",
   "metadata": {},
   "outputs": [],
   "source": []
  },
  {
   "cell_type": "code",
   "execution_count": null,
   "id": "unlike-instruction",
   "metadata": {},
   "outputs": [],
   "source": []
  },
  {
   "cell_type": "code",
   "execution_count": null,
   "id": "portuguese-facility",
   "metadata": {},
   "outputs": [],
   "source": []
  }
 ],
 "metadata": {
  "kernelspec": {
   "display_name": "Python 3",
   "language": "python",
   "name": "python3"
  },
  "language_info": {
   "codemirror_mode": {
    "name": "ipython",
    "version": 3
   },
   "file_extension": ".py",
   "mimetype": "text/x-python",
   "name": "python",
   "nbconvert_exporter": "python",
   "pygments_lexer": "ipython3",
   "version": "3.6.8"
  }
 },
 "nbformat": 4,
 "nbformat_minor": 5
}
