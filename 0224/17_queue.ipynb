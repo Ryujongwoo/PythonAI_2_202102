{
 "cells": [
  {
   "cell_type": "code",
   "execution_count": 9,
   "id": "proper-basic",
   "metadata": {},
   "outputs": [],
   "source": [
    "class Queue:\n",
    "    def __init__(self, size = 5):\n",
    "        self.queue = []  # queue => 빈 리스트 => 데이터는 append() 메소드로 추가한다.\n",
    "        self.size = size # 큐의 크기\n",
    "        self.rear = 0    # 큐의 뒤쪽 포인터 => 큐에 데이터가 입력될 때 마다 1씩 증가한다.\n",
    "        self.front = 0   # 큐의 앞쪽 포인터 => 큐에서 데이터가 제거될 때 마다 1씩 증가한다.\n",
    "    \n",
    "    # add => 입력\n",
    "    def add(self, data):\n",
    "        if data not in self.queue: # 큐에 추가하려는 데이터가 큐에 존재하지 않는가?\n",
    "            # overflow 인가 검사한다.\n",
    "            # 큐의 크기(self.size)가 5일때 큐로 사용할 리스트의 인덱스(self.rear)는 0, 1, 2, 3, 4만 사용할 수 있다.\n",
    "            if self.size > self.rear:\n",
    "                # overflow가 발생되지 않았으므로 스택에 데이터를 저장한다.\n",
    "                self.queue.append(data)\n",
    "                # 스택에 데이터를 추가했으므로 rear를 1증가 시킨다.\n",
    "                self.rear += 1\n",
    "                print('큐에 {}을(를) 저장합니다. '.format(data), end = '')\n",
    "                print('rear = {}, front = {}'.format(self.rear, self.front))\n",
    "            else:\n",
    "                # overflow가 발생되면 큐가 가득찼다는 메시지를 출력한다.\n",
    "                print('overflow 발생... 큐가 가득차서 {}를(을) 저장할 수 없습니다.'.format(data))\n",
    "            # ===== if 끝\n",
    "        else:\n",
    "            # 추가하려는 데이터가 큐에 존재하기 때문에 중복되는 데이터라고 메시지를 출력한다.\n",
    "            print('{}는(은) 중복되는 데이터 입니다.'.format(data))\n",
    "        # ===== if 끝\n",
    "        # 큐에 저장된 데이터를 출력하는 메소드(view)를 실행한다. => 클래스의 다른 메소를 실행하려면 앞에 'self'를 붙인다.\n",
    "        self.view()\n",
    "    \n",
    "    # remove => 출력\n",
    "    # view => 보기\n",
    "    def view(self):\n",
    "        print('큐에 저장된 데이터 => ', end = '')\n",
    "        # underflow 인가 검사한다. 큐는 underflow 조건이 2가지가 있다.\n",
    "        # 1. 큐에 데이터가 한 건도 입력되지 않았을 경우 rear가 0이므로 underflow가 발생된다.\n",
    "        # 2. 큐에 데이터가 입력된 후 입력된 데이터가 모두 제거되면 rear와 fromt가 같아지게 되면서 underflow가 발생된다.\n",
    "        if self.rear <= 0 or self.rear == self.front:\n",
    "            # 큐에 저장된 데이터가 없으므로 없다고 출력한다.\n",
    "            print('없음', end = '')\n",
    "        else:\n",
    "            # 큐에 저장된 데이터가 있으므로 front 번째 인덱스의 데이터 부터 rear - 1 번째 인덱스의 데이터까지 출력한다.\n",
    "            for i in range(self.front, self.rear):\n",
    "                print(self.queue[i], end = ' ')\n",
    "        # ===== if 끝    \n",
    "        print()"
   ]
  },
  {
   "cell_type": "code",
   "execution_count": 10,
   "id": "quiet-barrel",
   "metadata": {},
   "outputs": [
    {
     "name": "stdout",
     "output_type": "stream",
     "text": [
      "큐에 111을(를) 저장합니다. rear = 1, front = 0\n",
      "큐에 저장된 데이터 => 111 \n",
      "111는(은) 중복되는 데이터 입니다.\n",
      "큐에 저장된 데이터 => 111 \n",
      "큐에 888을(를) 저장합니다. rear = 2, front = 0\n",
      "큐에 저장된 데이터 => 111 888 \n",
      "큐에 333을(를) 저장합니다. rear = 3, front = 0\n",
      "큐에 저장된 데이터 => 111 888 333 \n",
      "큐에 777을(를) 저장합니다. rear = 4, front = 0\n",
      "큐에 저장된 데이터 => 111 888 333 777 \n",
      "큐에 555을(를) 저장합니다. rear = 5, front = 0\n",
      "큐에 저장된 데이터 => 111 888 333 777 555 \n",
      "overflow 발생... 큐가 가득차서 999를(을) 저장할 수 없습니다.\n",
      "큐에 저장된 데이터 => 111 888 333 777 555 \n"
     ]
    }
   ],
   "source": [
    "queue = Queue()\n",
    "queue.add(111)\n",
    "queue.add(111)\n",
    "queue.add(888)\n",
    "queue.add(333)\n",
    "queue.add(777)\n",
    "queue.add(555)\n",
    "queue.add(999)"
   ]
  },
  {
   "cell_type": "code",
   "execution_count": null,
   "id": "metropolitan-planet",
   "metadata": {},
   "outputs": [],
   "source": []
  },
  {
   "cell_type": "code",
   "execution_count": null,
   "id": "every-wallet",
   "metadata": {},
   "outputs": [],
   "source": []
  },
  {
   "cell_type": "code",
   "execution_count": null,
   "id": "useful-passport",
   "metadata": {},
   "outputs": [],
   "source": []
  },
  {
   "cell_type": "code",
   "execution_count": null,
   "id": "educational-necessity",
   "metadata": {},
   "outputs": [],
   "source": []
  },
  {
   "cell_type": "code",
   "execution_count": null,
   "id": "pediatric-anderson",
   "metadata": {},
   "outputs": [],
   "source": []
  },
  {
   "cell_type": "code",
   "execution_count": null,
   "id": "compact-monaco",
   "metadata": {},
   "outputs": [],
   "source": []
  }
 ],
 "metadata": {
  "kernelspec": {
   "display_name": "Python 3",
   "language": "python",
   "name": "python3"
  },
  "language_info": {
   "codemirror_mode": {
    "name": "ipython",
    "version": 3
   },
   "file_extension": ".py",
   "mimetype": "text/x-python",
   "name": "python",
   "nbconvert_exporter": "python",
   "pygments_lexer": "ipython3",
   "version": "3.6.8"
  }
 },
 "nbformat": 4,
 "nbformat_minor": 5
}
