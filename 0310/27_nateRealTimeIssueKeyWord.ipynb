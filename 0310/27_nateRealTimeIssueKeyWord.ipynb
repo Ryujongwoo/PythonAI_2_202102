{
 "cells": [
  {
   "cell_type": "code",
   "execution_count": 1,
   "id": "average-solomon",
   "metadata": {},
   "outputs": [],
   "source": [
    "import warnings\n",
    "warnings.filterwarnings('ignore')\n",
    "import requests\n",
    "from bs4 import BeautifulSoup\n",
    "from datetime import datetime as dt"
   ]
  },
  {
   "cell_type": "code",
   "execution_count": 38,
   "id": "familiar-least",
   "metadata": {},
   "outputs": [
    {
     "name": "stdout",
     "output_type": "stream",
     "text": [
      "['', 'TMI NEWS 전원일기', '동일', '']\n",
      "['', '이천웅 4타점', '동일', '']\n",
      "['', '그것이 알고 싶다', '상승1', '']\n",
      "['', '생생정보', '상승1', '']\n",
      "['', '태움', '하락2', '']\n",
      "================================================================================\n",
      "TMI NEWS 전원일기 동일\n",
      "이천웅 4타점 동일\n",
      "그것이 알고 싶다 상승1\n",
      "생생정보 상승1\n",
      "태움 하락2\n",
      "================================================================================\n",
      "TMI NEWS 전원일기, -\n",
      "이천웅 4타점, -\n",
      "그것이 알고 싶다, ↑1\n",
      "생생정보, ↑1\n",
      "태움, ↓2\n"
     ]
    }
   ],
   "source": [
    "targetSite = 'https://www.nate.com/'\n",
    "header = {\"User-agent\": \"Mozilla/5.0 (Windows NT 6.1; WOW64; Trident/7.0; rv:11.0) like Gecko\"}\n",
    "request = requests.get(targetSite, headers = header)\n",
    "# print(request)\n",
    "html = request.text\n",
    "soup = BeautifulSoup(html, 'html.parser')\n",
    "# print(soup)\n",
    "\n",
    "# 실시간 이슈 키워드만 크롤링 하려면 class 속성이 'txt_rank'인 <span> 태그를 얻어오면 된다.\n",
    "# issues = soup.findAll('span', {'class': 'txt_rank'})\n",
    "\n",
    "# 실시간 이슈 키워드와 상승, 하락 폭 까지 크롤링 하려면 class 속성이 'ik'인 <a> 태그를 얻어오면 된다.\n",
    "issues = soup.findAll('a', {'class': 'ik'})\n",
    "# print(len(issues))\n",
    "# print(issues)\n",
    "\n",
    "for issue in issues:\n",
    "    print(issue.text.split('\\n'))\n",
    "print('=' * 80)\n",
    "\n",
    "for issue in issues:\n",
    "    print(issue.text.split('\\n')[1], issue.text.split('\\n')[2])\n",
    "print('=' * 80)\n",
    "\n",
    "for issue in issues:\n",
    "    print(issue.text.split('\\n')[1], end = ', ')\n",
    "    upDown = issue.text.split('\\n')[2]\n",
    "    if upDown[:2] == '상승':\n",
    "        print('↑' + upDown[2:])\n",
    "    elif upDown[:2] == '하락':\n",
    "        print('↓' + upDown[2:])\n",
    "    elif upDown[:2] == '동일':\n",
    "        print('-')\n",
    "    else:\n",
    "        print(upDown)"
   ]
  },
  {
   "cell_type": "code",
   "execution_count": 44,
   "id": "guided-photograph",
   "metadata": {},
   "outputs": [
    {
     "name": "stdout",
     "output_type": "stream",
     "text": [
      "['TMI', 'NEWS', '전원일기', '동일']\n",
      "['이천웅', '4타점', '동일']\n",
      "['그것이', '알고', '싶다', '상승1']\n",
      "['생생정보', '상승1']\n",
      "['태움', '하락2']\n",
      "================================================================================\n",
      "['TMI', 'NEWS', '전원일기'] 동일\n",
      "['이천웅', '4타점'] 동일\n",
      "['그것이', '알고', '싶다'] 상승1\n",
      "['생생정보'] 상승1\n",
      "['태움'] 하락2\n",
      "================================================================================\n",
      "TMI NEWS 전원일기, -\n",
      "이천웅 4타점, -\n",
      "그것이 알고 싶다, ↑1\n",
      "생생정보, ↑1\n",
      "태움, ↓2\n"
     ]
    }
   ],
   "source": [
    "for issue in issues:\n",
    "    print(issue.text.split())\n",
    "print('=' * 80)\n",
    "\n",
    "for issue in issues:\n",
    "    print(issue.text.split()[:-1], issue.text.split()[-1])\n",
    "print('=' * 80)\n",
    "\n",
    "for issue in issues:\n",
    "    print(' '.join(issue.text.split()[:-1]), end = ', ')\n",
    "    upDown = issue.text.split()[-1]\n",
    "    if upDown[:2] == '상승':\n",
    "        print('↑' + upDown[2:])\n",
    "    elif upDown[:2] == '하락':\n",
    "        print('↓' + upDown[2:])\n",
    "    elif upDown[:2] == '동일':\n",
    "        print('-')\n",
    "    else:\n",
    "        print(upDown)"
   ]
  },
  {
   "cell_type": "code",
   "execution_count": null,
   "id": "molecular-simpson",
   "metadata": {},
   "outputs": [],
   "source": []
  },
  {
   "cell_type": "code",
   "execution_count": null,
   "id": "natural-seeking",
   "metadata": {},
   "outputs": [],
   "source": []
  },
  {
   "cell_type": "code",
   "execution_count": null,
   "id": "blessed-angle",
   "metadata": {},
   "outputs": [],
   "source": []
  }
 ],
 "metadata": {
  "kernelspec": {
   "display_name": "Python 3",
   "language": "python",
   "name": "python3"
  },
  "language_info": {
   "codemirror_mode": {
    "name": "ipython",
    "version": 3
   },
   "file_extension": ".py",
   "mimetype": "text/x-python",
   "name": "python",
   "nbconvert_exporter": "python",
   "pygments_lexer": "ipython3",
   "version": "3.6.8"
  }
 },
 "nbformat": 4,
 "nbformat_minor": 5
}
