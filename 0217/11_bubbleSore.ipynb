{
 "cells": [
  {
   "cell_type": "markdown",
   "id": "authentic-sewing",
   "metadata": {},
   "source": [
    "선택 정렬 => 특정 위치의 데이터를 선택해서 나머지 데이터와 비교한다.  \n",
    "버블 정렬 => 인접한 2개의 데이터를 비교하며 정렬한다.  \n",
    "정렬할 데이터가 n개일 경우 회전수는 n - 1번이 된다. => 데이터가 5개면 회전수는 4번이다."
   ]
  },
  {
   "cell_type": "code",
   "execution_count": 1,
   "id": "tough-intention",
   "metadata": {},
   "outputs": [
    {
     "data": {
      "image/png": "[encoded data removed]",
      "text/plain": [
       "<IPython.core.display.Image object>"
      ]
     },
     "execution_count": 1,
     "metadata": {
      "image/png": {
       "width": "1000"
      }
     },
     "output_type": "execute_result"
    }
   ],
   "source": [
    "from IPython.display import Image\n",
    "Image('./bubbleSort.png', width = '1000')"
   ]
  },
  {
   "cell_type": "code",
   "execution_count": 2,
   "id": "sixth-message",
   "metadata": {},
   "outputs": [
    {
     "name": "stdout",
     "output_type": "stream",
     "text": [
      "[i = 0, j = 0] [i = 0, j = 1] [i = 0, j = 2] [i = 0, j = 3] \n",
      "[i = 1, j = 0] [i = 1, j = 1] [i = 1, j = 2] \n",
      "[i = 2, j = 0] [i = 2, j = 1] \n",
      "[i = 3, j = 0] \n"
     ]
    }
   ],
   "source": [
    "for i in range(4):\n",
    "    for j in range(4 - i):\n",
    "        print('[i = {}, j = {}] '.format(i, j), end = '')\n",
    "    print()"
   ]
  },
  {
   "cell_type": "code",
   "execution_count": 6,
   "id": "unexpected-baghdad",
   "metadata": {},
   "outputs": [
    {
     "name": "stdout",
     "output_type": "stream",
     "text": [
      "1회전 결과 : [3, 4, 8, 1, 9]\n",
      "2회전 결과 : [3, 4, 1, 8, 9]\n",
      "3회전 결과 : [3, 1, 4, 8, 9]\n",
      "4회전 결과 : [1, 3, 4, 8, 9]\n"
     ]
    }
   ],
   "source": [
    "data = [8, 3, 4, 9, 1]\n",
    "for i in range(len(data) - 1):\n",
    "    for j in range(len(data) - 1 - i):\n",
    "        # 오름차순 정렬 => 앞(j번째)의 데이터가 뒤(j + 1번째)의 데이터보다 크면 두 기억 장소의 데이터를 교환한다.\n",
    "        # 부등호가 '>'일 경우 오름차순으로 정렬하고 부등호를 '<'로 변경하면 내림차순으로 정렬된다.\n",
    "        if data[j] > data[j + 1]:\n",
    "            data[j], data[j + 1] = data[j + 1], data[j]\n",
    "        # ===== if 끝\n",
    "    # ===== for j 끝 => 회전 종료\n",
    "    print('{}회전 결과 : {}'.format(i + 1, data))\n",
    "# ===== for i 끝 => 정렬 종료\n",
    "# print('정렬 결과 : {}'.format(data))"
   ]
  },
  {
   "cell_type": "code",
   "execution_count": 10,
   "id": "athletic-composer",
   "metadata": {},
   "outputs": [
    {
     "name": "stdout",
     "output_type": "stream",
     "text": [
      "1회전 결과 : [1, 3, 4, 8, 9]\n",
      "원래는 4 회전을 해야하지만 2 회전 후 중간 종료됨\n"
     ]
    }
   ],
   "source": [
    "# 버블 정렬은 데이터가 어느정도 정렬이 되어있는 상태라면 회전수를 다 채우지 않더라도 정렬이 완료되었나 판단해서 조기에\n",
    "# 종료할 수 있다. => early stop\n",
    "data = [9, 1, 3, 4, 8]\n",
    "for i in range(len(data) - 1):\n",
    "    \n",
    "    # 회전(정렬) 작업이 시작되기 전에 flag 변수를 선언하고 False로 초기화 시킨다.\n",
    "    flag = False\n",
    "    \n",
    "    for j in range(len(data) - 1 - i):\n",
    "        if data[j] > data[j + 1]:\n",
    "            data[j], data[j + 1] = data[j + 1], data[j]\n",
    "            \n",
    "            # 값 교환 작업이 실행되면 flag 변수의 값을 True로 수정한다.\n",
    "            flag = True\n",
    "    # ===== for j 끝\n",
    "    \n",
    "    # 한 회전이 종료되었을 때 값 교환 작업이 한 번도 실행되지 않았다면 현재 데이터는 모두 정렬이 되어있는 상태를 의미하므로\n",
    "    # 정렬을 중지시킨다. => 반복을 탈출한다.\n",
    "    if not flag:\n",
    "        print('원래는 {} 회전을 해야하지만 {} 회전 후 중간 종료됨'.format(len(data) - 1, i + 1))\n",
    "        break\n",
    "            \n",
    "    print('{}회전 결과 : {}'.format(i + 1, data))\n",
    "# print('정렬 결과 : {}'.format(data))"
   ]
  },
  {
   "cell_type": "code",
   "execution_count": null,
   "id": "tutorial-framing",
   "metadata": {},
   "outputs": [],
   "source": []
  },
  {
   "cell_type": "code",
   "execution_count": null,
   "id": "distinguished-attraction",
   "metadata": {},
   "outputs": [],
   "source": []
  },
  {
   "cell_type": "code",
   "execution_count": null,
   "id": "reserved-draft",
   "metadata": {},
   "outputs": [],
   "source": []
  },
  {
   "cell_type": "code",
   "execution_count": null,
   "id": "grateful-gardening",
   "metadata": {},
   "outputs": [],
   "source": []
  },
  {
   "cell_type": "code",
   "execution_count": null,
   "id": "honey-pregnancy",
   "metadata": {},
   "outputs": [],
   "source": []
  }
 ],
 "metadata": {
  "kernelspec": {
   "display_name": "Python 3",
   "language": "python",
   "name": "python3"
  },
  "language_info": {
   "codemirror_mode": {
    "name": "ipython",
    "version": 3
   },
   "file_extension": ".py",
   "mimetype": "text/x-python",
   "name": "python",
   "nbconvert_exporter": "python",
   "pygments_lexer": "ipython3",
   "version": "3.6.8"
  }
 },
 "nbformat": 4,
 "nbformat_minor": 5
}
