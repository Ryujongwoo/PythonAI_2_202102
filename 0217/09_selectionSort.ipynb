{
 "cells": [
  {
   "cell_type": "code",
   "execution_count": 2,
   "id": "annoying-antigua",
   "metadata": {},
   "outputs": [
    {
     "data": {
      "image/png": "[encoded data removed]",
      "text/plain": [
       "<IPython.core.display.Image object>"
      ]
     },
     "execution_count": 2,
     "metadata": {
      "image/png": {
       "width": "1000"
      }
     },
     "output_type": "execute_result"
    }
   ],
   "source": [
    "from IPython.display import Image\n",
    "Image('./selectionSort.png', width = '1000')"
   ]
  },
  {
   "cell_type": "code",
   "execution_count": 4,
   "id": "stopped-wages",
   "metadata": {},
   "outputs": [
    {
     "name": "stdout",
     "output_type": "stream",
     "text": [
      "[i = 0, j = 1] [i = 0, j = 2] [i = 0, j = 3] [i = 0, j = 4] \n",
      "[i = 1, j = 2] [i = 1, j = 3] [i = 1, j = 4] \n",
      "[i = 2, j = 3] [i = 2, j = 4] \n",
      "[i = 3, j = 4] \n"
     ]
    }
   ],
   "source": [
    "for i in range(4):\n",
    "    for j in range(i + 1, 5):\n",
    "        print('[i = {}, j = {}] '.format(i, j), end = '')\n",
    "    print()"
   ]
  },
  {
   "cell_type": "code",
   "execution_count": 6,
   "id": "religious-picture",
   "metadata": {},
   "outputs": [
    {
     "name": "stdout",
     "output_type": "stream",
     "text": [
      "1회전 결과 : [1, 8, 4, 9, 3]\n",
      "2회전 결과 : [1, 3, 8, 9, 4]\n",
      "3회전 결과 : [1, 3, 4, 9, 8]\n",
      "4회전 결과 : [1, 3, 4, 8, 9]\n"
     ]
    }
   ],
   "source": [
    "data = [8, 3, 4, 9, 1]\n",
    "for i in range(4):\n",
    "    for j in range(i + 1, 5):\n",
    "        # 오름차순 정렬 => 앞(i번째)의 데이터가 뒤(j번째)의 데이터 보다 크면 두 기억 장소의 데이터를 교환한다.\n",
    "        if data[i] > data[j]:\n",
    "            data[i], data[j] = data[j], data[i]\n",
    "        # ===== if 끝\n",
    "    # ===== for j 끝 => 회전 종료\n",
    "    print('{}회전 결과 : {}'.format(i + 1, data))\n",
    "# ===== for i 끝 => 정렬 종료\n",
    "# print('정렬 결과 : {}'.format(data))"
   ]
  },
  {
   "cell_type": "code",
   "execution_count": 7,
   "id": "emerging-pillow",
   "metadata": {},
   "outputs": [
    {
     "name": "stdout",
     "output_type": "stream",
     "text": [
      "1회전 결과 : [9, 3, 4, 8, 1]\n",
      "2회전 결과 : [9, 8, 3, 4, 1]\n",
      "3회전 결과 : [9, 8, 4, 3, 1]\n",
      "4회전 결과 : [9, 8, 4, 3, 1]\n"
     ]
    }
   ],
   "source": [
    "data = [8, 3, 4, 9, 1]\n",
    "for i in range(4):\n",
    "    for j in range(i + 1, 5):\n",
    "        # 내림차순 정렬 => 앞(i번째)의 데이터가 뒤(j번째)의 데이터 보다 작으면 두 기억 장소의 데이터를 교환한다.\n",
    "        # 부등호가 '>'일 경우 오름차순으로 정렬하고 부등호를 '<'로 변경하면 내림차순으로 정렬된다.\n",
    "        if data[i] < data[j]:\n",
    "            data[i], data[j] = data[j], data[i]\n",
    "        # ===== if 끝\n",
    "    # ===== for j 끝 => 회전 종료\n",
    "    print('{}회전 결과 : {}'.format(i + 1, data))\n",
    "# ===== for i 끝 => 정렬 종료\n",
    "# print('정렬 결과 : {}'.format(data))"
   ]
  },
  {
   "cell_type": "code",
   "execution_count": 14,
   "id": "previous-prairie",
   "metadata": {},
   "outputs": [
    {
     "name": "stdout",
     "output_type": "stream",
     "text": [
      "1회전 결과 : [1, 8, 4, 9, 3]\n",
      "2회전 결과 : [1, 3, 8, 9, 4]\n",
      "3회전 결과 : [1, 3, 4, 9, 8]\n",
      "4회전 결과 : [1, 3, 4, 8, 9]\n"
     ]
    }
   ],
   "source": [
    "data = [8, 3, 4, 9, 1]\n",
    "for i in range(len(data) - 1): # 회전수, 데이터를 선택하는 위치\n",
    "    for j in range(i + 1, len(data)): # 선택된 데이터와 비교 대상이 되는 데이터 위치\n",
    "        if data[i] > data[j]:\n",
    "            data[i], data[j] = data[j], data[i]\n",
    "\n",
    "    print('{}회전 결과 : {}'.format(i + 1, data))\n",
    "# print('정렬 결과 : {}'.format(data))"
   ]
  },
  {
   "cell_type": "code",
   "execution_count": null,
   "id": "consecutive-caribbean",
   "metadata": {},
   "outputs": [],
   "source": []
  },
  {
   "cell_type": "code",
   "execution_count": null,
   "id": "sexual-payment",
   "metadata": {},
   "outputs": [],
   "source": []
  },
  {
   "cell_type": "code",
   "execution_count": null,
   "id": "front-skating",
   "metadata": {},
   "outputs": [],
   "source": []
  },
  {
   "cell_type": "code",
   "execution_count": null,
   "id": "bacterial-sample",
   "metadata": {},
   "outputs": [],
   "source": []
  },
  {
   "cell_type": "code",
   "execution_count": null,
   "id": "stretch-cancellation",
   "metadata": {},
   "outputs": [],
   "source": []
  },
  {
   "cell_type": "code",
   "execution_count": null,
   "id": "secure-stewart",
   "metadata": {},
   "outputs": [],
   "source": []
  }
 ],
 "metadata": {
  "kernelspec": {
   "display_name": "Python 3",
   "language": "python",
   "name": "python3"
  },
  "language_info": {
   "codemirror_mode": {
    "name": "ipython",
    "version": 3
   },
   "file_extension": ".py",
   "mimetype": "text/x-python",
   "name": "python",
   "nbconvert_exporter": "python",
   "pygments_lexer": "ipython3",
   "version": "3.6.8"
  }
 },
 "nbformat": 4,
 "nbformat_minor": 5
}
