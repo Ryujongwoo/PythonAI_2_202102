{
 "cells": [
  {
   "cell_type": "code",
   "execution_count": 5,
   "id": "boolean-addition",
   "metadata": {},
   "outputs": [],
   "source": [
    "import warnings\n",
    "warnings.filterwarnings(action = 'ignore')\n",
    "import requests\n",
    "from bs4 import BeautifulSoup\n",
    "import time"
   ]
  },
  {
   "cell_type": "code",
   "execution_count": 6,
   "id": "human-differential",
   "metadata": {},
   "outputs": [],
   "source": [
    "# 한 건의 대화 정보를 저장하는 클래스\n",
    "class Conversation:\n",
    "    def __init__(self, question, answer):\n",
    "        self.question = question\n",
    "        self.answer = answer\n",
    "    def __str__(self):\n",
    "        return '질문 : {}\\n답변 : {}'.format(self.question, self.answer)"
   ]
  },
  {
   "cell_type": "code",
   "execution_count": 7,
   "id": "interracial-conditioning",
   "metadata": {},
   "outputs": [
    {
     "name": "stdout",
     "output_type": "stream",
     "text": [
      "질문 : 너... 누구야?\n",
      "답변 : 알아서 뭐하시려고...\n"
     ]
    }
   ],
   "source": [
    "c = Conversation('너... 누구야?', '알아서 뭐하시려고...')\n",
    "print(c)"
   ]
  },
  {
   "cell_type": "code",
   "execution_count": 11,
   "id": "reliable-livestock",
   "metadata": {},
   "outputs": [],
   "source": [
    "# 75개의 대화 주제와 세부 대화 내용의 url을 크롤링해서 리턴하는 함수\n",
    "def getSubject():\n",
    "    targetSite = 'https://basicenglishspeaking.com/daily-english-conversation-topics/'\n",
    "    request = requests.get(targetSite)\n",
    "    html = request.text\n",
    "    soup = BeautifulSoup(html, 'html.parser')\n",
    "    \n",
    "    subject = []\n",
    "    contentLink = [] # 세부 대화 내용의 url을 저장할 빈 리스트\n",
    "    divs = soup.findAll('div', {'class': 'tcb-col'})\n",
    "    for div in divs:\n",
    "        chapters = div.findAll('a')\n",
    "        for chapter in chapters:\n",
    "            subject.append(chapter.text)\n",
    "            # 세부 대화 내용의 url을 contentLink 리스트에 추가한다.\n",
    "            # print(chapter.get('href'))\n",
    "            contentLink.append(chapter.get('href'))\n",
    "            \n",
    "    # 대화 주제와 대화 주제에 따른 세부 대화 내용의 url을 리턴시킨다.\n",
    "    # 리턴되는 데이터는 2개가 아니라 subject, contentLink 튜플로 리턴시킨다.\n",
    "    return subject, contentLink"
   ]
  },
  {
   "cell_type": "code",
   "execution_count": 40,
   "id": "geological-hydrogen",
   "metadata": {},
   "outputs": [],
   "source": [
    "subject, contentLink = getSubject()\n",
    "# for i in range(len(subject)):\n",
    "    # print('{0:2d}. {1} - {2}'.format(i + 1, subject[i], contentLink[i]))\n",
    "    \n",
    "# 대화 주제에 따른 모든 대화 내용을 저장할 빈 리스트를 선언한다.\n",
    "conversation = [] # Conversation 클래스 객체를 저장할 리스트, Conversation 클래스 => 질문과 답변이 한 쌍으로 저장된 클래스\n",
    "\n",
    "i = 0 # 대화 주제의 개수를 카운트 하는 변수\n",
    "# 대화 주제의 개수만큼 반복하며 각각의 대화 주제에 따른 대화 내용을 크롤링 한다.\n",
    "for s in subject[:2]:\n",
    "    conversation.append('{0:2d}. {1} - {2}'.format(i + 1, subject[i], contentLink[i]))\n",
    "    \n",
    "    # 대화 주제별 대화 내용을 크롤링 할 페이지를 요청한다.\n",
    "    request = requests.get(contentLink[i])\n",
    "    \n",
    "    # time 모듈을 import 하면 sleep() 메소드를 사용할 수 있다.\n",
    "    # sleep() 메소드는 인수로 지정한 시간만큼 프로그램을 멈춘다. => 시간은 초 단위로 지정한다.\n",
    "    # 대형 포털 사이트는 짧은 간격으로 많은 요청이 들어오면 자기네 사이트가 공격당하는 것으로 판단할 수 있기 때문에 일정한\n",
    "    # 시간 간격을 두고 정보를 요청한다.\n",
    "    # 페이지가 로딩되는 시간만큼 기다리기 위해서 일정 시간 간격을 두고 정보를 요청한다.\n",
    "    time.sleep(1) # 프로그램을 1초간 멈춘다.\n",
    "    \n",
    "    html = request.text\n",
    "    soup = BeautifulSoup(html, 'html.parser')\n",
    "    \n",
    "    # 대화 주제에 따른 대화 내용은 class 속성이 'sc_player_container1'인 div 태그의 다음 형제이다.\n",
    "    divs = soup.findAll('div', {'class': 'sc_player_container1'})\n",
    "    # print(len(divs))\n",
    "    \n",
    "    # 각각의 대화 주제에 따른 대화 내용의 개수만큼 반복한다.\n",
    "    for div in divs:\n",
    "        # print(div)\n",
    "        # index() : 인수로 지정된 객체의 index 번호를 얻어온다.\n",
    "        # divs.index(div) => 대화 내용 전체(divs)에서 특정 대화(div)의 index 번호를 얻어온다.\n",
    "        # index() 메소드의 실행 결과가 짝수면 질문이고 홀수면 답변이다.\n",
    "        # print(divs.index(div))\n",
    "        \n",
    "        # 크롤링할 데이터가 태그 내부에 작성된 것이 아니고 class 속성이 'sc_player_container1'인 div 태그의 다음 형제로\n",
    "        # 작성되어 있다.\n",
    "        # next_sibling => 다음 형제\n",
    "        # previous_sibling => 이전 형제\n",
    "        if divs.index(div) % 2 == 0: # 질문인가?\n",
    "            question = div.next_sibling\n",
    "        else:\n",
    "            answer = div.next_sibling\n",
    "            \n",
    "            # 질문과 답변이 한 쌍이 되었으므로 Conversation 클래스 객체를 생성하고 질문과 답변을 저장한다.\n",
    "            c = Conversation(question, answer)\n",
    "            # 질문과 답변이 한 쌍으로 저장된 Conversation 클래스 객체를 대화 내용을 기억할 conversation 리스트에 저장한다.\n",
    "            conversation.append(c)\n",
    "    \n",
    "    # 대화 주제 1건의 세부 대화 내용이 크로링되면 다음 대화르 처리하기 위해 i를 1증가 시킨다.\n",
    "    i += 1"
   ]
  },
  {
   "cell_type": "code",
   "execution_count": 41,
   "id": "initial-reserve",
   "metadata": {},
   "outputs": [
    {
     "name": "stdout",
     "output_type": "stream",
     "text": [
      " 1. Family - https://basicenglishspeaking.com/family/\n",
      "질문 : How many people are there in your family?\n",
      "답변 : There are 5 people in my family: my father, mother, brother, sister, and me.\n",
      "질문 : Does your family live in a house or an apartment?\n",
      "답변 : We live in a house in the countryside.\n",
      "질문 : What does your father do?\n",
      "답변 : My father is a doctor. He works at the local hospital.\n",
      "질문 : How old is your mother?\n",
      "답변 : She is 40 years old, 1 year younger than my father.\n",
      "질문 : Do you have any siblings? What’s his/her name?\n",
      "답변 : Yes, I do. I have 1 elder brother, David, and 1 younger sister, Mary.\n",
      "질문 : Are you the oldest amongst your brothers and sisters?\n",
      "답변 : No, I’m not. I’m the second child in my family.\n",
      "질문 : What does your mother/father like?\n",
      "답변 : My father likes playing football and my mother likes cooking.\n",
      "질문 : Do your parents let you stay out late?\n",
      "답변 : Of course not. They always ask me to get home before 10 pm each night.\n",
      "질문 : Do you stay with your parents?\n",
      "답변 : Right now, no, but I used to.\n",
      "질문 : Does your family usually have dinner together?\n",
      "답변 : Yes, we do. My mom always prepares delicious meals for us.\n",
      " 2. Restaurant - https://basicenglishspeaking.com/restaurant/\n",
      "질문 : How often do you eat out? Who do you go with?\n",
      "답변 : I often eat out on weekends, when I hang out with my friends.\n",
      "질문 : What restaurant do you usually visit?\n",
      "답변 : Well, there are not many restaurants in my neighborhood, so my best choice is the deli in convenient stores like the Circle K, Mini-Stop, B-smart.\n",
      "질문 : What type of food do you enjoy to eat? Western or Asian?\n",
      "답변 : I’m interested in Asian food, Western food is not my thing.\n",
      "질문 : How much do you usually pay when you eat out?\n",
      "답변 : It’s not very expensive, just around $5 for each meal.\n",
      "질문 : Do you enjoy spicy food?\n",
      "답변 : Yes, I do, especially on cold days.\n",
      "질문 : Are the servers there friendly to you?\n",
      "답변 : Yes, they are. Most of them are really helpful.\n",
      "질문 : Have you ever tried Italian food?\n",
      "답변 : Yes, at least once, when I was in my friend’s wedding party.\n",
      "질문 : Are you concerned about calories when eating out?\n",
      "답변 : Yes, I am. I’m on diet now, so this really matters to me.\n",
      "질문 : Are fast food restaurants like KFC or McDonald’s famous in your country?\n",
      "답변 : Yes, they are. The youth in my country are big fans of fast food.\n",
      "질문 : Do you often drink alcohol when eating out?\n",
      "답변 : No, not often. Just when I have parties with my friends.\n"
     ]
    }
   ],
   "source": [
    "for c in conversation:\n",
    "    print(c)"
   ]
  },
  {
   "cell_type": "code",
   "execution_count": null,
   "id": "organizational-account",
   "metadata": {},
   "outputs": [],
   "source": []
  },
  {
   "cell_type": "code",
   "execution_count": null,
   "id": "cathedral-geneva",
   "metadata": {},
   "outputs": [],
   "source": []
  },
  {
   "cell_type": "code",
   "execution_count": null,
   "id": "meaning-birth",
   "metadata": {},
   "outputs": [],
   "source": []
  },
  {
   "cell_type": "code",
   "execution_count": null,
   "id": "palestinian-minister",
   "metadata": {},
   "outputs": [],
   "source": []
  },
  {
   "cell_type": "code",
   "execution_count": null,
   "id": "alpine-credits",
   "metadata": {},
   "outputs": [],
   "source": []
  },
  {
   "cell_type": "code",
   "execution_count": null,
   "id": "regulated-linux",
   "metadata": {},
   "outputs": [],
   "source": []
  },
  {
   "cell_type": "code",
   "execution_count": null,
   "id": "likely-integer",
   "metadata": {},
   "outputs": [],
   "source": []
  },
  {
   "cell_type": "code",
   "execution_count": null,
   "id": "upset-observation",
   "metadata": {},
   "outputs": [],
   "source": []
  }
 ],
 "metadata": {
  "kernelspec": {
   "display_name": "Python 3",
   "language": "python",
   "name": "python3"
  },
  "language_info": {
   "codemirror_mode": {
    "name": "ipython",
    "version": 3
   },
   "file_extension": ".py",
   "mimetype": "text/x-python",
   "name": "python",
   "nbconvert_exporter": "python",
   "pygments_lexer": "ipython3",
   "version": "3.6.8"
  }
 },
 "nbformat": 4,
 "nbformat_minor": 5
}
